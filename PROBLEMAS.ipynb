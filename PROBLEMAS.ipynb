{
  "nbformat": 4,
  "nbformat_minor": 0,
  "metadata": {
    "colab": {
      "provenance": [],
      "authorship_tag": "ABX9TyPCbEGRSSNf2NVmOG/jae4A",
      "include_colab_link": true
    },
    "kernelspec": {
      "name": "python3",
      "display_name": "Python 3"
    },
    "language_info": {
      "name": "python"
    }
  },
  "cells": [
    {
      "cell_type": "markdown",
      "metadata": {
        "id": "view-in-github",
        "colab_type": "text"
      },
      "source": [
        "<a href=\"https://colab.research.google.com/github/Lancelozt/PROBLEMAS/blob/main/PROBLEMAS.ipynb\" target=\"_parent\"><img src=\"https://colab.research.google.com/assets/colab-badge.svg\" alt=\"Open In Colab\"/></a>"
      ]
    },
    {
      "cell_type": "markdown",
      "source": [
        "*PROBLEMA 1*"
      ],
      "metadata": {
        "id": "cWypxLVpEek7"
      }
    },
    {
      "cell_type": "code",
      "execution_count": 9,
      "metadata": {
        "id": "O6SJAPFvEgkZ"
      },
      "outputs": [],
      "source": [
        "\n",
        "import random as rnd\n"
      ]
    },
    {
      "cell_type": "code",
      "source": [
        "#1 FUNCIÓN PARA VER SI UNA CARTA ES AS\n",
        "def Obtubo_as(mano):\n",
        "    if \"As\" in mano:\n",
        "        return 1\n",
        "    else:\n",
        "        return 0"
      ],
      "metadata": {
        "id": "3M02snRgEw3E"
      },
      "execution_count": 10,
      "outputs": []
    },
    {
      "cell_type": "code",
      "source": [
        "#2  SIMULACIÓN DE OBTENER UNA MANO (5 CARTAS)\n",
        "def get_mano(baraja, num_cartas):\n",
        "    return rnd.sample(baraja, num_cartas)"
      ],
      "metadata": {
        "id": "EN2STyItEzfT"
      },
      "execution_count": 11,
      "outputs": []
    },
    {
      "cell_type": "code",
      "source": [
        "#3 REALIZAR LAS SIMULACIONES USANDO VECTORES (ARREGLOS) DONDE SE DEFINEN EL NUMERO DE SIMULACIONES Y ASI CALCULAR LA FRECUENCIA\n",
        "\n",
        "def simulador(num_experimentos, bajara, num_cartas):\n",
        "    numero_as = 0\n",
        "    for _ in range(num_experimentos):\n",
        "        mano = get_mano(bajara, num_cartas)\n",
        "        numero_as += Obtubo_as(mano)\n",
        "    frecuencia = numero_as / num_experimentos\n",
        "    return frecuencia"
      ],
      "metadata": {
        "id": "l5VSH7DDE2G6"
      },
      "execution_count": 12,
      "outputs": []
    },
    {
      "cell_type": "code",
      "source": [
        "# BARAJAS\n",
        "baraja = ['As', '2', '3', '4', '5', '6', '7', '8', '9', '10', 'J', 'Q', 'K'] * 4\n",
        "\n",
        "num_cartas = 5\n",
        "\n",
        "experimentos = [500, 1000, 3000, 5000]\n",
        "\n",
        "prob_as = 4/52\n",
        "\n",
        "for num_experimentos in experimentos:\n",
        "    frecuencia = simulador(num_experimentos, baraja, num_cartas)\n",
        "    print(f'Número de experimentos: {num_experimentos}, Frecuencia de As: {frecuencia}, Probabilidad de As: {prob_as}')\n"
      ],
      "metadata": {
        "id": "f9lKplWzF5cp"
      },
      "execution_count": null,
      "outputs": []
    },
    {
      "cell_type": "markdown",
      "source": [
        "*PROBLEMA 2*"
      ],
      "metadata": {
        "id": "eCSIZv5IEMPj"
      }
    },
    {
      "cell_type": "code",
      "execution_count": 14,
      "metadata": {
        "id": "Lz5tDbhC_wKz"
      },
      "outputs": [],
      "source": [
        "#SE IMPORTA LA LIBRERIA RANDOM Y PANDAS\n",
        "import random\n",
        "import pandas as pd"
      ]
    },
    {
      "cell_type": "code",
      "source": [
        "# SE GENERA UNA CLASE CARTA PARA QUE, CON AYUDA DE LA CLASE CARTA SE SIMULE UNA CARTA DE LA BARAJA\n",
        "class Card:\n",
        "    def __init__(self, suit, rank):\n",
        "        self.suit = suit\n",
        "        self.rank = rank\n",
        "\n",
        "    def __repr__(self):\n",
        "        return f\"{self.rank} de {self.suit}\""
      ],
      "metadata": {
        "id": "wndU3vqQAAQ1"
      },
      "execution_count": 15,
      "outputs": []
    },
    {
      "cell_type": "code",
      "source": [
        "#CLASE BARAJA, SU FUNCIÓN ES SIMULAR LA CREACIÓN DE LAS CARTAS (52 CARTAS)\n",
        "class Baraja:\n",
        "    valor = [str(n) for n in range(2, 11)] + list('JQKA')\n",
        "    tipo = 'Trebol Corazon Espada Diamante'.split()\n",
        "\n",
        "    def __init__(self):\n",
        "        self._cards = [Card(suit, rank) for suit in self.tipo\n",
        "                                          for rank in self.valor]\n",
        "\n",
        "    def __len__(self):\n",
        "        return len(self._cards)\n",
        "\n",
        "    def __getitem__(self, position):\n",
        "        return self._cards[position]"
      ],
      "metadata": {
        "id": "WdKv5RuTA7gX"
      },
      "execution_count": 16,
      "outputs": []
    },
    {
      "cell_type": "code",
      "source": [
        "#FUNCIÓN QUE SIMULA EL SACAR UNA CARTA DE LA CLASE  BARAJA\n",
        "def sacar_as(n_intentos):\n",
        "    baraja = Baraja()\n",
        "    as_count = 0\n",
        "    for _ in range(n_intentos):\n",
        "        carta = random.choice(baraja)\n",
        "        if carta.rank == 'A':\n",
        "            as_count += 1\n",
        "    return as_count"
      ],
      "metadata": {
        "id": "dkpa6w2qA-T4"
      },
      "execution_count": 17,
      "outputs": []
    },
    {
      "cell_type": "code",
      "source": [
        "intentos = [10, 50, 100, 500, 1000, 1500, 2000, 2500, 5000]\n",
        "frecuencias = [sacar_as(n) / n for n in intentos]\n",
        "\n",
        "#GENERANDO UNA TABLA CON AYUDA DE LA BIBLIOTECA \"PANDAS \"\n",
        "\n",
        "tabla_frecuencias = pd.Series(frecuencias, index=intentos, name='Frecuencia Relativa')\n",
        "\n",
        "print(tabla_frecuencias)\n"
      ],
      "metadata": {
        "id": "E2Fny4vqBBqx"
      },
      "execution_count": null,
      "outputs": []
    },
    {
      "cell_type": "markdown",
      "source": [
        "*PROBLEMA 3*"
      ],
      "metadata": {
        "id": "hKTBi6-hErSy"
      }
    },
    {
      "cell_type": "code",
      "execution_count": 19,
      "metadata": {
        "id": "k-pevqaAG1cA"
      },
      "outputs": [],
      "source": [
        "import random\n",
        "import pandas as pd"
      ]
    },
    {
      "cell_type": "code",
      "source": [
        "# 1) Simulación de tirar 5 dados al azar\n",
        "def tirar_dados(num_dados):\n",
        "    return [random.randint(1, 6) for _ in range(num_dados)]"
      ],
      "metadata": {
        "id": "miVYep_zHx7K"
      },
      "execution_count": 20,
      "outputs": []
    },
    {
      "cell_type": "code",
      "source": [
        "# 2) Calcular la frecuencia de obtener 3 pares\n",
        "def frecuencia_tres_pares(num_intentos, num_dados):\n",
        "    conteo_tres_pares = 0\n",
        "    frecuencias = []\n",
        "    for i in range(num_intentos):\n",
        "        dados = tirar_dados(num_dados)\n",
        "        pares = sum(1 for dado in dados if dado % 2 == 0)\n",
        "        if pares == 3:\n",
        "            conteo_tres_pares += 1\n",
        "        if (i+1) in intentos:\n",
        "            frecuencias.append(conteo_tres_pares / (i+1))\n",
        "    return frecuencias"
      ],
      "metadata": {
        "id": "i0FDC9d3HzKA"
      },
      "execution_count": 21,
      "outputs": []
    },
    {
      "cell_type": "code",
      "source": [
        "# Número de dados a tirar\n",
        "num_dados = 5\n",
        "\n",
        "# Número de intentos\n",
        "intentos = [500, 1000, 2000, 5000]\n",
        "\n",
        "# Calcular las frecuencias\n",
        "frecuencias = frecuencia_tres_pares(max(intentos), num_dados)\n",
        "\n",
        "# 3) Crear una tabla de frecuencias con Pandas\n",
        "tabla_frecuencias = pd.Series(frecuencias, index=intentos)\n",
        "\n",
        "# 4) Imprimir el resultado\n",
        "print(tabla_frecuencias)"
      ],
      "metadata": {
        "id": "J9hk7mvTH3uK"
      },
      "execution_count": null,
      "outputs": []
    },
    {
      "cell_type": "markdown",
      "source": [
        "*PROBLEMA 4*"
      ],
      "metadata": {
        "id": "lZRGHQPyE3fz"
      }
    },
    {
      "cell_type": "code",
      "execution_count": null,
      "metadata": {
        "id": "6CMlzLT5Zd5o"
      },
      "outputs": [],
      "source": [
        "import random\n",
        "import pandas as pd"
      ]
    },
    {
      "cell_type": "code",
      "source": [
        "# 1) Simulación de tirar 5 dados al azar\n",
        "def tirar_dados(num_dados):\n",
        "    return [random.randint(1, 6) for _ in range(num_dados)]"
      ],
      "metadata": {
        "id": "NPqqg8WiZlN4"
      },
      "execution_count": null,
      "outputs": []
    },
    {
      "cell_type": "code",
      "source": [
        "# 2) Calcular la frecuencia de obtener 3 números pares consecutivos\n",
        "def frecuencia_pares_consecutivos(num_intentos, num_dados):\n",
        "    conteo_pares_consecutivos = 0\n",
        "    frecuencias = []\n",
        "    for i in range(num_intentos):\n",
        "        dados = tirar_dados(num_dados)\n",
        "        dados.sort()\n",
        "        pares_consecutivos = 0\n",
        "        for j in range(len(dados) - 2):\n",
        "            if dados[j] % 2 == 0 and dados[j+1] % 2 == 0 and dados[j+2] % 2 == 0:\n",
        "                pares_consecutivos += 1\n",
        "        if pares_consecutivos >= 1:\n",
        "            conteo_pares_consecutivos += 1\n",
        "        if (i+1) in intentos:\n",
        "            frecuencias.append(conteo_pares_consecutivos / (i+1))\n",
        "    return frecuencias"
      ],
      "metadata": {
        "id": "IX6N_asbZpoX"
      },
      "execution_count": null,
      "outputs": []
    },
    {
      "cell_type": "code",
      "source": [
        "# Número de dados a tirar\n",
        "num_dados = 5\n",
        "\n",
        "# Número de intentos\n",
        "intentos = [500, 1000, 2000, 5000]\n",
        "\n",
        "# Calcular las frecuencias\n",
        "frecuencias = frecuencia_pares_consecutivos(max(intentos), num_dados)\n",
        "\n",
        "# Crear una tabla de frecuencias con Pandas\n",
        "tabla_frecuencias = pd.Series(frecuencias, index=intentos)\n",
        "\n",
        "# Imprimir el resultado\n",
        "print(tabla_frecuencias)"
      ],
      "metadata": {
        "id": "akBkJf_CZr8g"
      },
      "execution_count": null,
      "outputs": []
    },
    {
      "cell_type": "markdown",
      "source": [
        "*PROBLEMA 5*"
      ],
      "metadata": {
        "id": "dl89uviFE82j"
      }
    },
    {
      "cell_type": "code",
      "execution_count": 23,
      "metadata": {
        "id": "GkBfDV-XuPha"
      },
      "outputs": [],
      "source": [
        "import random\n",
        "import pandas as pd"
      ]
    },
    {
      "cell_type": "code",
      "source": [
        "# 1) Simulación del lanzamiento de una moneda cargada\n",
        "def lanzar_moneda():                      # 25% DE VECES\n",
        "    return 'sol' if random.uniform(0, 1) < 0.25 else 'águila'"
      ],
      "metadata": {
        "id": "xlUOhoaxuR47"
      },
      "execution_count": 24,
      "outputs": []
    },
    {
      "cell_type": "code",
      "source": [
        "# 2) Calcular la frecuencia relativa de que caiga águila\n",
        "def frecuencia_aguila(num_intentos):\n",
        "    conteo_aguila = 0\n",
        "    frecuencias = []\n",
        "    for i in range(num_intentos):\n",
        "        moneda = lanzar_moneda()\n",
        "        if moneda == 'águila':\n",
        "            conteo_aguila += 1\n",
        "        if (i+1) in intentos:\n",
        "            frecuencias.append(conteo_aguila / (i+1))\n",
        "    return frecuencias"
      ],
      "metadata": {
        "id": "VnB2mE5AuXnf"
      },
      "execution_count": 25,
      "outputs": []
    },
    {
      "cell_type": "code",
      "source": [
        "# Número de intentos\n",
        "intentos = [500, 1000, 1500, 2000, 2500, 3000, 5000]\n",
        "\n",
        "# Calcular las frecuencias\n",
        "frecuencias = frecuencia_aguila(max(intentos))\n",
        "\n",
        "# Crear una tabla de frecuencias con Pandas\n",
        "tabla_frecuencias = pd.Series(frecuencias, index=intentos)\n",
        "\n",
        "# Imprimir el resultado\n",
        "print(tabla_frecuencias)"
      ],
      "metadata": {
        "colab": {
          "base_uri": "https://localhost:8080/"
        },
        "id": "QctVdk_zuc3Q",
        "outputId": "7c209431-2e18-4d63-c532-4da62ab20cac"
      },
      "execution_count": 26,
      "outputs": [
        {
          "output_type": "stream",
          "name": "stdout",
          "text": [
            "500     0.744000\n",
            "1000    0.754000\n",
            "1500    0.738667\n",
            "2000    0.744000\n",
            "2500    0.740000\n",
            "3000    0.741667\n",
            "5000    0.745200\n",
            "dtype: float64\n"
          ]
        }
      ]
    }
  ]
}